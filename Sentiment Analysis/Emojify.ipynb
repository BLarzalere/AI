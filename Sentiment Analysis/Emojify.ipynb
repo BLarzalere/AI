{
 "cells": [
  {
   "cell_type": "markdown",
   "metadata": {},
   "source": [
    "## Emojify\n",
    "This is a proof of concept for creating an emoji NLP word represntational model, similar to what’s on your phone. The model will leverage a pretrained GloVe word representational word embedding layer.  The emoji representations / classifications are kept simple with only 5 classes."
   ]
  },
  {
   "cell_type": "code",
   "execution_count": 1,
   "metadata": {},
   "outputs": [
    {
     "name": "stderr",
     "output_type": "stream",
     "text": [
      "Using TensorFlow backend.\n"
     ]
    }
   ],
   "source": [
    "# load libraries\n",
    "import numpy as np\n",
    "from emo_utils import *\n",
    "import emoji\n",
    "import matplotlib.pyplot as plt\n",
    "from keras.models import Model\n",
    "from keras.layers import Input, Dense, Dropout, LSTM, Activation, Bidirectional\n",
    "from keras.layers.embeddings import Embedding\n",
    "from keras.preprocessing import sequence\n",
    "from keras.initializers import glorot_uniform\n",
    "\n",
    "%matplotlib inline"
   ]
  },
  {
   "cell_type": "code",
   "execution_count": 2,
   "metadata": {
    "collapsed": true
   },
   "outputs": [],
   "source": [
    "# set the random seed\n",
    "seed = 7\n",
    "np.random.seed(seed)"
   ]
  },
  {
   "cell_type": "code",
   "execution_count": 3,
   "metadata": {
    "collapsed": true
   },
   "outputs": [],
   "source": [
    "# load data\n",
    "X_train, Y_train = read_csv('data/train_emoji.csv')\n",
    "X_test, Y_test = read_csv('data/test.csv')"
   ]
  },
  {
   "cell_type": "code",
   "execution_count": 4,
   "metadata": {},
   "outputs": [
    {
     "name": "stdout",
     "output_type": "stream",
     "text": [
      "Max length is: 10\n"
     ]
    }
   ],
   "source": [
    "# determine max length of training input sequences\n",
    "maxLen = len(max(X_train, key=len).split())\n",
    "print(\"Max length is: \" + str(maxLen))"
   ]
  },
  {
   "cell_type": "code",
   "execution_count": 5,
   "metadata": {
    "collapsed": true
   },
   "outputs": [],
   "source": [
    "# convert outputs to one-hot-vectors\n",
    "Y_oh_train = convert_to_one_hot(Y_train, C = 5)\n",
    "Y_oh_test = convert_to_one_hot(Y_test, C = 5)"
   ]
  },
  {
   "cell_type": "code",
   "execution_count": 6,
   "metadata": {},
   "outputs": [
    {
     "name": "stdout",
     "output_type": "stream",
     "text": [
      "2 is converted to one hot vector [0. 0. 1. 0. 0.]\n"
     ]
    }
   ],
   "source": [
    "# review one-hot output\n",
    "index = 75\n",
    "print(Y_train[index], \"is converted to one hot vector\", Y_oh_train[index])"
   ]
  },
  {
   "cell_type": "code",
   "execution_count": 7,
   "metadata": {
    "collapsed": true
   },
   "outputs": [],
   "source": [
    "# load the Glove word embedding matrix\n",
    "word_to_index, index_to_word, word_to_vec_map = read_glove_vecs('data/glove.6B.50d.txt')"
   ]
  },
  {
   "cell_type": "code",
   "execution_count": 8,
   "metadata": {},
   "outputs": [
    {
     "name": "stdout",
     "output_type": "stream",
     "text": [
      "The index of football in the vocabulary is 151266\n",
      "The 289846th word in the vocabulary is potatos\n",
      "The word index for baseball is: 69714\n"
     ]
    }
   ],
   "source": [
    "# review the embedding matrix data\n",
    "word = \"football\"\n",
    "index = 289846\n",
    "print(\"The index of\", word, \"in the vocabulary is\", word_to_index[word])\n",
    "print(\"The\", str(index) + \"th word in the vocabulary is\", index_to_word[index])\n",
    "print(\"The word index for baseball is:\", word_to_index['baseball'])"
   ]
  },
  {
   "cell_type": "code",
   "execution_count": 9,
   "metadata": {
    "collapsed": true
   },
   "outputs": [],
   "source": [
    "# Converts an array of sentences (strings) into an array of indices corresponding to words in the sentance.\n",
    "# The output shape should be such that it can be given to Embedding().\n",
    "def sentences_to_indices(X, word_to_index, max_len): \n",
    "    \"\"\"    \n",
    "    Arguments:\n",
    "    X -- array of sentences (strings), of shape (m, 1)\n",
    "    word_to_index -- a dictionary containing the each word mapped to its index\n",
    "    max_len -- maximum number of words in a sentence\n",
    "    \n",
    "    Returns:\n",
    "    X_indices -- array of indices corresponding to words in the sentences from X, of shape (m, max_len)\n",
    "    \"\"\"\n",
    "    m = X.shape[0] # number of training examples\n",
    "\n",
    "    # Initialize X_indices as a numpy matrix of zeros\n",
    "    X_indices = np.zeros((m, max_len))\n",
    "\n",
    "   \n",
    "    for i in range(m): \n",
    "        # Convert the ith training sentence in lower case and split is into words\n",
    "        sentence_words = (X[i].lower()).split()\n",
    "\n",
    "        j = 0\n",
    "\n",
    "        \n",
    "        for w in sentence_words:\n",
    "            # Set the entry of X_indices to the index of the correct word\n",
    "            X_indices[i, j] = word_to_index[w]\n",
    "            j += 1\n",
    "\n",
    "    return X_indices\n",
    "    "
   ]
  },
  {
   "cell_type": "code",
   "execution_count": 10,
   "metadata": {},
   "outputs": [
    {
     "name": "stdout",
     "output_type": "stream",
     "text": [
      "X1 = ['funny lol' 'lets play baseball' 'food is ready for you']\n",
      "X1_indices = [[155345. 225122.      0.      0.      0.]\n",
      " [220930. 286375.  69714.      0.      0.]\n",
      " [151204. 192973. 302254. 151349. 394475.]]\n"
     ]
    }
   ],
   "source": [
    "# validate function\n",
    "X1 = np.array([\"funny lol\", \"lets play baseball\", \"food is ready for you\"])\n",
    "X1_indices = sentences_to_indices(X1,word_to_index, max_len = 5)\n",
    "print(\"X1 =\", X1)\n",
    "print(\"X1_indices =\", X1_indices)"
   ]
  },
  {
   "cell_type": "code",
   "execution_count": 11,
   "metadata": {
    "collapsed": true
   },
   "outputs": [],
   "source": [
    "# Creates a Keras Embedding() layer and loads in pre-trained GloVe 50-dimensional vectors.\n",
    "def pretrained_embedding_layer(word_to_vec_map, word_to_index):\n",
    "    \"\"\"    \n",
    "    Arguments:\n",
    "    word_to_vec_map -- dictionary mapping words to their GloVe vector representation.\n",
    "    word_to_index -- dictionary mapping from words to their indices in the vocabulary (400,001 words)\n",
    "    \n",
    "    Returns:\n",
    "    embedding_layer -- pretrained layer Keras instance\n",
    "    \"\"\"\n",
    "    vocab_len = len(word_to_index) + 1   # adding 1 to fit Keras embedding (requirement)\n",
    "    emb_dim = word_to_vec_map[\"cucumber\"].shape[0]  # define dimensionality of your GloVe word vector\n",
    "   \n",
    "    # Initialize the embedding matrix as an array of zeros of shape \n",
    "    # (vocab_len, dimensions of word emb_matrix = np.zeros((vocab_len, emb_dim))\n",
    "    emb_matrix = np.zeros((vocab_len, emb_dim))\n",
    "    \n",
    "    # Set each row \"index\" of the embedding matrix to be the word vector representation of the index\n",
    "    for word, index in word_to_index.items(): \n",
    "        emb_matrix[index, :] = word_to_vec_map[word]\n",
    "    \n",
    "    # Define Keras embedding layer with the correct output/input sizes, make it trainable\n",
    "    embedding_layer = Embedding(vocab_len, emb_dim, trainable = False)\n",
    "    \n",
    "    # Build the embedding layer, it is required before setting the weights of the embedding layer\n",
    "    embedding_layer.build((None,))\n",
    "    \n",
    "    # Set the pretrained weights of the embedding layer to the embedding matrix. Your layer is now .\n",
    "    embedding_layer.set_weights([emb_matrix]) \n",
    "    \n",
    "    return embedding_layer"
   ]
  },
  {
   "cell_type": "code",
   "execution_count": 12,
   "metadata": {},
   "outputs": [
    {
     "name": "stdout",
     "output_type": "stream",
     "text": [
      "weights[0][1][3] = -0.3403\n"
     ]
    }
   ],
   "source": [
    "# create keras embedding layer\n",
    "embedding_layer = pretrained_embedding_layer(word_to_vec_map, word_to_index)\n",
    "# confirm weights\n",
    "print(\"weights[0][1][3] =\", embedding_layer.get_weights()[0][1][3])"
   ]
  },
  {
   "cell_type": "code",
   "execution_count": 13,
   "metadata": {
    "collapsed": true
   },
   "outputs": [],
   "source": [
    "# Main function creating the model's graph\n",
    "def Emojify (input_shape, word_to_vec_map, word_to_index):\n",
    "    \"\"\"    \n",
    "    Arguments:\n",
    "    input_shape -- shape of the input, usually (max_len,)\n",
    "    word_to_vec_map -- dictionary mapping every word in a vocabulary into its 50-dimensional vector repr\n",
    "    word_to_index -- dictionary mapping from words to their indices in the vocabulary (400,001 words)\n",
    "    \"\"\"    \n",
    "\n",
    "    # Define sentence_indices as the input\n",
    "    sentence_indices = Input(input_shape, dtype='int32')\n",
    "\n",
    "    # Create the embedding layer with pretrained GloVe vectors\n",
    "    embedding_layer = pretrained_embedding_layer(word_to_vec_map, word_to_index)\n",
    "\n",
    "    # Propagate sentence_indices through your embedding layerto get back the embeddings\n",
    "    embeddings = embedding_layer(sentence_indices)\n",
    "    L1 = Bidirectional(LSTM(128, return_sequences=True), merge_mode='concat')(embeddings)\n",
    "    L2 = Bidirectional(LSTM(128, return_sequences=False), merge_mode='concat')(L1)\n",
    "    D1 = Dropout(0.4)(L2)\n",
    "    L3 = Dense(512)(D1) \n",
    "    L4 = Dense(5)(L3)\n",
    "    out = Activation('softmax')(L4)\n",
    "    model = Model(inputs=sentence_indices, outputs=out)\n",
    "    \n",
    "    return model"
   ]
  },
  {
   "cell_type": "code",
   "execution_count": 14,
   "metadata": {},
   "outputs": [
    {
     "name": "stdout",
     "output_type": "stream",
     "text": [
      "_________________________________________________________________\n",
      "Layer (type)                 Output Shape              Param #   \n",
      "=================================================================\n",
      "input_1 (InputLayer)         (None, 10)                0         \n",
      "_________________________________________________________________\n",
      "embedding_2 (Embedding)      (None, 10, 50)            20000050  \n",
      "_________________________________________________________________\n",
      "bidirectional_1 (Bidirection (None, 10, 256)           183296    \n",
      "_________________________________________________________________\n",
      "bidirectional_2 (Bidirection (None, 256)               394240    \n",
      "_________________________________________________________________\n",
      "dropout_1 (Dropout)          (None, 256)               0         \n",
      "_________________________________________________________________\n",
      "dense_1 (Dense)              (None, 512)               131584    \n",
      "_________________________________________________________________\n",
      "dense_2 (Dense)              (None, 5)                 2565      \n",
      "_________________________________________________________________\n",
      "activation_1 (Activation)    (None, 5)                 0         \n",
      "=================================================================\n",
      "Total params: 20,711,735\n",
      "Trainable params: 711,685\n",
      "Non-trainable params: 20,000,050\n",
      "_________________________________________________________________\n"
     ]
    }
   ],
   "source": [
    "# create the model\n",
    "model = Emojify((maxLen,), word_to_vec_map, word_to_index)\n",
    "model.compile(loss='categorical_crossentropy', optimizer='adam', metrics=['accuracy'])\n",
    "model.summary()"
   ]
  },
  {
   "cell_type": "code",
   "execution_count": 15,
   "metadata": {},
   "outputs": [],
   "source": [
    "# define X & Y values\n",
    "X_train_indices = sentences_to_indices(X_train, word_to_index, maxLen)\n",
    "Y_train_oh = convert_to_one_hot(Y_train, C = 5)\n",
    "X_test_indices = sentences_to_indices(X_test, word_to_index, max_len = maxLen)\n",
    "Y_test_oh = convert_to_one_hot(Y_test, C = 5)"
   ]
  },
  {
   "cell_type": "code",
   "execution_count": 16,
   "metadata": {},
   "outputs": [
    {
     "name": "stdout",
     "output_type": "stream",
     "text": [
      "Train on 132 samples, validate on 56 samples\n",
      "Epoch 1/30\n",
      "132/132 [==============================] - 2s 14ms/step - loss: 1.5732 - acc: 0.2500 - val_loss: 1.4718 - val_acc: 0.4107\n",
      "Epoch 2/30\n",
      "132/132 [==============================] - 0s 4ms/step - loss: 1.4501 - acc: 0.3864 - val_loss: 1.3958 - val_acc: 0.4821\n",
      "Epoch 3/30\n",
      "132/132 [==============================] - 1s 4ms/step - loss: 1.2673 - acc: 0.5076 - val_loss: 1.1970 - val_acc: 0.5536\n",
      "Epoch 4/30\n",
      "132/132 [==============================] - 1s 4ms/step - loss: 0.9975 - acc: 0.7348 - val_loss: 0.9581 - val_acc: 0.6429\n",
      "Epoch 5/30\n",
      "132/132 [==============================] - 1s 4ms/step - loss: 0.7020 - acc: 0.7652 - val_loss: 0.8172 - val_acc: 0.6964\n",
      "Epoch 6/30\n",
      "132/132 [==============================] - 1s 5ms/step - loss: 0.5981 - acc: 0.7803 - val_loss: 0.6485 - val_acc: 0.7500\n",
      "Epoch 7/30\n",
      "132/132 [==============================] - 1s 5ms/step - loss: 0.4675 - acc: 0.8106 - val_loss: 0.6191 - val_acc: 0.7679\n",
      "Epoch 8/30\n",
      "132/132 [==============================] - 1s 5ms/step - loss: 0.3957 - acc: 0.8561 - val_loss: 0.7326 - val_acc: 0.7500\n",
      "Epoch 9/30\n",
      "132/132 [==============================] - 1s 5ms/step - loss: 0.5587 - acc: 0.7955 - val_loss: 0.6089 - val_acc: 0.7500\n",
      "Epoch 10/30\n",
      "132/132 [==============================] - 1s 5ms/step - loss: 0.3102 - acc: 0.8788 - val_loss: 0.7614 - val_acc: 0.7679\n",
      "Epoch 11/30\n",
      "132/132 [==============================] - 1s 6ms/step - loss: 0.4031 - acc: 0.8561 - val_loss: 0.6758 - val_acc: 0.7500\n",
      "Epoch 12/30\n",
      "132/132 [==============================] - 1s 5ms/step - loss: 0.2636 - acc: 0.8939 - val_loss: 0.7180 - val_acc: 0.7321\n",
      "Epoch 13/30\n",
      "132/132 [==============================] - 1s 5ms/step - loss: 0.2380 - acc: 0.8939 - val_loss: 0.6513 - val_acc: 0.7321\n",
      "Epoch 14/30\n",
      "132/132 [==============================] - 1s 5ms/step - loss: 0.1595 - acc: 0.9318 - val_loss: 0.4972 - val_acc: 0.7857\n",
      "Epoch 15/30\n",
      "132/132 [==============================] - 1s 5ms/step - loss: 0.1589 - acc: 0.9545 - val_loss: 0.5640 - val_acc: 0.7857\n",
      "Epoch 16/30\n",
      "132/132 [==============================] - 1s 5ms/step - loss: 0.1133 - acc: 0.9545 - val_loss: 0.5582 - val_acc: 0.7857\n",
      "Epoch 17/30\n",
      "132/132 [==============================] - 1s 5ms/step - loss: 0.1043 - acc: 0.9621 - val_loss: 0.5732 - val_acc: 0.8393\n",
      "Epoch 18/30\n",
      "132/132 [==============================] - 1s 5ms/step - loss: 0.0921 - acc: 0.9697 - val_loss: 0.5915 - val_acc: 0.8571\n",
      "Epoch 19/30\n",
      "132/132 [==============================] - 1s 5ms/step - loss: 0.0964 - acc: 0.9470 - val_loss: 0.7212 - val_acc: 0.8036\n",
      "Epoch 20/30\n",
      "132/132 [==============================] - 1s 5ms/step - loss: 0.1851 - acc: 0.9091 - val_loss: 0.8014 - val_acc: 0.7679\n",
      "Epoch 21/30\n",
      "132/132 [==============================] - 1s 4ms/step - loss: 0.1080 - acc: 0.9621 - val_loss: 0.7108 - val_acc: 0.8571\n",
      "Epoch 22/30\n",
      "132/132 [==============================] - 1s 5ms/step - loss: 0.0349 - acc: 0.9924 - val_loss: 0.8148 - val_acc: 0.7857\n",
      "Epoch 23/30\n",
      "132/132 [==============================] - 1s 5ms/step - loss: 0.0347 - acc: 0.9924 - val_loss: 0.6178 - val_acc: 0.8393\n",
      "Epoch 24/30\n",
      "132/132 [==============================] - 1s 5ms/step - loss: 0.0285 - acc: 1.0000 - val_loss: 0.6936 - val_acc: 0.8214\n",
      "Epoch 25/30\n",
      "132/132 [==============================] - 1s 4ms/step - loss: 0.0203 - acc: 1.0000 - val_loss: 0.7869 - val_acc: 0.8393\n",
      "Epoch 26/30\n",
      "132/132 [==============================] - 1s 5ms/step - loss: 0.0127 - acc: 1.0000 - val_loss: 0.8592 - val_acc: 0.8036\n",
      "Epoch 27/30\n",
      "132/132 [==============================] - 1s 4ms/step - loss: 0.0073 - acc: 1.0000 - val_loss: 0.8830 - val_acc: 0.7857\n",
      "Epoch 28/30\n",
      "132/132 [==============================] - 1s 4ms/step - loss: 0.0077 - acc: 1.0000 - val_loss: 0.8541 - val_acc: 0.8214\n",
      "Epoch 29/30\n",
      "132/132 [==============================] - 1s 6ms/step - loss: 0.0057 - acc: 1.0000 - val_loss: 0.8398 - val_acc: 0.8214\n",
      "Epoch 30/30\n",
      "132/132 [==============================] - 1s 5ms/step - loss: 0.0026 - acc: 1.0000 - val_loss: 0.8751 - val_acc: 0.8214\n"
     ]
    }
   ],
   "source": [
    "# fit the model\n",
    "history = model.fit(X_train_indices, Y_train_oh, epochs=30, batch_size=32, shuffle=True, validation_data=(X_test_indices, Y_test_oh)).history"
   ]
  },
  {
   "cell_type": "code",
   "execution_count": 17,
   "metadata": {},
   "outputs": [
    {
     "name": "stdout",
     "output_type": "stream",
     "text": [
      "56/56 [==============================] - 0s 518us/step\n",
      "Test accuracy =  0.8214285799435207\n"
     ]
    }
   ],
   "source": [
    "# evaluate model on test set\n",
    "loss, acc = model.evaluate(X_test_indices, Y_test_oh)\n",
    "print(\"Test accuracy = \", acc)"
   ]
  },
  {
   "cell_type": "code",
   "execution_count": 18,
   "metadata": {},
   "outputs": [
    {
     "data": {
      "image/png": "[encoded data removed]",
      "text/plain": [
       "<matplotlib.figure.Figure at 0x1a1a73b8d0>"
      ]
     },
     "metadata": {},
     "output_type": "display_data"
    }
   ],
   "source": [
    "# plot the model loss and accuracy\n",
    "fig, (axis1, axis2) = plt.subplots(nrows=1, ncols=2, figsize=(16,6))\n",
    "\n",
    "# summarize history for accuracy\n",
    "axis1.plot(history['acc'], label='Train', linewidth=3)\n",
    "axis1.plot(history['val_acc'], label='Validation', linewidth=3)\n",
    "axis1.set_title('Model accuracy', fontsize=16)\n",
    "axis1.set_ylabel('accuracy')\n",
    "axis1.set_xlabel('epoch')\n",
    "axis1.legend(loc='lower right')\n",
    "\n",
    "# summarize history for loss\n",
    "axis2.plot(history['loss'], label='Train', linewidth=3)\n",
    "axis2.plot(history['val_loss'], label='Validation', linewidth=3)\n",
    "axis2.set_title('Model loss', fontsize=16)\n",
    "axis2.set_ylabel('loss')\n",
    "axis2.set_xlabel('epoch')\n",
    "axis2.legend(loc='upper right')\n",
    "plt.show()"
   ]
  },
  {
   "cell_type": "code",
   "execution_count": 19,
   "metadata": {},
   "outputs": [
    {
     "name": "stdout",
     "output_type": "stream",
     "text": [
      "I want dinner 🍴\n"
     ]
    }
   ],
   "source": [
    "# test on new inputs - positive\n",
    "x_test = np.array([\"I want dinner\"])\n",
    "X_test_indices = sentences_to_indices(x_test, word_to_index, maxLen)\n",
    "print(x_test[0] + ' ' + label_to_emoji(np.argmax(model.predict(X_test_indices))))"
   ]
  },
  {
   "cell_type": "code",
   "execution_count": 20,
   "metadata": {},
   "outputs": [
    {
     "name": "stdout",
     "output_type": "stream",
     "text": [
      "What a beautiful day 😄\n"
     ]
    }
   ],
   "source": [
    "# test on new inputs - positive\n",
    "x_test = np.array([\"What a beautiful day\"])\n",
    "X_test_indices = sentences_to_indices(x_test, word_to_index, maxLen)\n",
    "print(x_test[0] + ' ' + label_to_emoji(np.argmax(model.predict(X_test_indices))))"
   ]
  },
  {
   "cell_type": "code",
   "execution_count": 22,
   "metadata": {},
   "outputs": [
    {
     "name": "stdout",
     "output_type": "stream",
     "text": [
      "I am not happy 😞\n"
     ]
    }
   ],
   "source": [
    "# test on new inputs - negative\n",
    "x_test = np.array([\"I am not happy\"])\n",
    "X_test_indices = sentences_to_indices(x_test, word_to_index, maxLen)\n",
    "print(x_test[0] + ' ' + label_to_emoji(np.argmax(model.predict(X_test_indices))))"
   ]
  },
  {
   "cell_type": "code",
   "execution_count": null,
   "metadata": {
    "collapsed": true
   },
   "outputs": [],
   "source": []
  }
 ],
 "metadata": {
  "kernelspec": {
   "display_name": "Python 3",
   "language": "python",
   "name": "python3"
  },
  "language_info": {
   "codemirror_mode": {
    "name": "ipython",
    "version": 3
   },
   "file_extension": ".py",
   "mimetype": "text/x-python",
   "name": "python",
   "nbconvert_exporter": "python",
   "pygments_lexer": "ipython3",
   "version": "3.7.3"
  }
 },
 "nbformat": 4,
 "nbformat_minor": 2
}
